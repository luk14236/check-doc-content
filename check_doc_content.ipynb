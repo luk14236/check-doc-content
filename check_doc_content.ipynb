{
  "nbformat": 4,
  "nbformat_minor": 0,
  "metadata": {
    "colab": {
      "provenance": []
    },
    "kernelspec": {
      "name": "python3",
      "display_name": "Python 3"
    }
  },
  "cells": [
    {
      "cell_type": "code",
      "metadata": {
        "id": "eSv3AWQwRyFn"
      },
      "source": [
        "!apt-get install python-dev libxml2-dev libxslt1-dev antiword unrtf poppler-utils pstotext tesseract-ocr \\\n",
        "flac ffmpeg lame libmad0 libsox-fmt-mp3 sox libjpeg-dev swig"
      ],
      "execution_count": null,
      "outputs": []
    },
    {
      "cell_type": "code",
      "metadata": {
        "id": "3qAUkDaCD-rj"
      },
      "source": [
        "!pip install docx2txt\n",
        "!pip install validate-docbr\n",
        "!pip install pycep-correios\n",
        "!pip install phonenumbers\n",
        "!pip install textract"
      ],
      "execution_count": null,
      "outputs": []
    },
    {
      "cell_type": "code",
      "metadata": {
        "id": "fAfPbkDFF2U9"
      },
      "source": [
        "from validate_docbr import CPF, CNH, CNPJ, PIS, TituloEleitoral\n",
        "\n",
        "import docx2txt\n",
        "import re\n",
        "import pycep_correios\n",
        "import phonenumbers\n",
        "import textract\n",
        "import os"
      ],
      "execution_count": null,
      "outputs": []
    },
    {
      "cell_type": "code",
      "metadata": {
        "id": "i_GJin2EGTNa"
      },
      "source": [
        "def validate_cpf(doc):\n",
        "    cpf = CPF()\n",
        "    return cpf.validate(doc)"
      ],
      "execution_count": null,
      "outputs": []
    },
    {
      "cell_type": "code",
      "metadata": {
        "id": "hG1lS0PVF6_P"
      },
      "source": [
        "def validate_cnh(doc):\n",
        "    cnh = CNH()\n",
        "    return cnh.validate(doc)"
      ],
      "execution_count": null,
      "outputs": []
    },
    {
      "cell_type": "code",
      "metadata": {
        "id": "ftE712kMF7Mq"
      },
      "source": [
        "def validate_cnpj(doc):\n",
        "    cnpj = CNPJ()\n",
        "    return cnpj.validate(doc)"
      ],
      "execution_count": null,
      "outputs": []
    },
    {
      "cell_type": "code",
      "metadata": {
        "id": "dIMqJm9UF7eS"
      },
      "source": [
        "def validate_pis(doc):\n",
        "    pis = PIS()\n",
        "    return pis.validate(doc)"
      ],
      "execution_count": null,
      "outputs": []
    },
    {
      "cell_type": "code",
      "metadata": {
        "id": "1rcRCadCGT4e"
      },
      "source": [
        "def validate_titulo(doc):\n",
        "    titulo = TituloEleitoral()\n",
        "    return titulo.validate(doc)"
      ],
      "execution_count": null,
      "outputs": []
    },
    {
      "cell_type": "code",
      "metadata": {
        "id": "UWJknkKDxLL_"
      },
      "source": [
        "def validate_cep(cep):\n",
        "  if re.match(\"[0-9]{5}-[0-9]{3}\", cep) or re.match(\"[0-9]{5}[0-9]{3}\", cep):\n",
        "    endereco = pycep_correios.get_address_from_cep(cep)\n",
        "    return endereco\n",
        "  return False"
      ],
      "execution_count": null,
      "outputs": []
    },
    {
      "cell_type": "code",
      "metadata": {
        "id": "EN-ZCAfHB3-4"
      },
      "source": [
        "def validate_celular(telefone):\n",
        "  if not telefone[:3] == \"+55\":\n",
        "    telefone = \"+55\" + telefone\n",
        "\n",
        "  z = phonenumbers.parse(telefone, None)\n",
        "\n",
        "  return phonenumbers.is_valid_number(z)\n"
      ],
      "execution_count": null,
      "outputs": []
    },
    {
      "cell_type": "code",
      "metadata": {
        "id": "xRsClqVjJnAb"
      },
      "source": [
        "def verificacoes(texto):\n",
        "  lines = texto.split('\\n')\n",
        "\n",
        "  for line in lines:\n",
        "    if line:\n",
        "      for word in line.split(' '):\n",
        "        if word == '':\n",
        "          continue\n",
        "        try:\n",
        "          word = word.strip()\n",
        "\n",
        "          if validate_cpf(word):\n",
        "            print(\"tem cpf\")\n",
        "\n",
        "          if len(word) == 9:\n",
        "            endereco = validate_cep(word)\n",
        "            if endereco:\n",
        "              print(\"tem cep\", endereco)\n",
        "\n",
        "          if validate_celular(word):\n",
        "            print(\"tem celular\")\n",
        "\n",
        "          if validate_cnh(word):\n",
        "            print(\"tem cnh\")\n",
        "\n",
        "          if validate_cnpj(word):\n",
        "            print(\"tem cnpj\")\n",
        "\n",
        "          if validate_pis(word):\n",
        "            print(\"tem pis\")\n",
        "\n",
        "          if validate_titulo(word):\n",
        "            print(\"tem titulo\")\n",
        "        except:\n",
        "          continue"
      ],
      "execution_count": null,
      "outputs": []
    },
    {
      "cell_type": "code",
      "metadata": {
        "id": "YVg3P2JLHKEl"
      },
      "source": [
        "def verificar_docx(arquivo):\n",
        "  result = docx2txt.process(arquivo)\n",
        "  verificacoes(result)\n",
        "\n"
      ],
      "execution_count": null,
      "outputs": []
    },
    {
      "cell_type": "code",
      "metadata": {
        "id": "9zX4ISZZG-ZG"
      },
      "source": [
        "def verificar_txt(arquivo):\n",
        "  result = open(arquivo, \"r\")\n",
        "  verificacoes(result.read())"
      ],
      "execution_count": null,
      "outputs": []
    },
    {
      "cell_type": "code",
      "metadata": {
        "id": "Rw8b0vRqHjgB"
      },
      "source": [
        "def verificar_pdf(arquivo):\n",
        "  texto = textract.process(arquivo)\n",
        "  texto = texto.decode(\"utf-8\")\n",
        "  verificacoes(texto)"
      ],
      "execution_count": null,
      "outputs": []
    },
    {
      "cell_type": "code",
      "metadata": {
        "id": "skivjr_sGTWf"
      },
      "source": [
        "def verificar_documento(arquivo):\n",
        "  arquivo_partes = arquivo.split('.')\n",
        "  ext = arquivo_partes[len(arquivo_partes)-1]\n",
        "\n",
        "  if os.path.isfile(arquivo):\n",
        "    print(\"Verificando -- \" + arquivo)\n",
        "    if ext.lower() == 'txt':\n",
        "      verificar_txt(arquivo)\n",
        "    elif ext.lower() == 'pdf':\n",
        "      verificar_pdf(arquivo)\n",
        "    elif ext.lower() == 'docx':\n",
        "      verificar_docx(arquivo)\n",
        "    else:\n",
        "      print('Tipo inválido')\n",
        "\n",
        "    print(\"--------------------------FIM-----------------------------\")\n",
        "  else:\n",
        "    print('Arquivo não encontrado.')"
      ],
      "execution_count": null,
      "outputs": []
    },
    {
      "cell_type": "code",
      "metadata": {
        "id": "27W8lOvEUrVH"
      },
      "source": [
        "def verificar_diretorio():\n",
        "  files = os.listdir()\n",
        "  for arquivo in files:\n",
        "    verificar_documento(arquivo)"
      ],
      "execution_count": null,
      "outputs": []
    },
    {
      "cell_type": "code",
      "metadata": {
        "id": "GmiGIhzQHMJ2"
      },
      "source": [
        "verificar_diretorio()"
      ],
      "execution_count": null,
      "outputs": []
    },
    {
      "cell_type": "code",
      "metadata": {
        "id": "hY4sfNU6Ve_Y"
      },
      "source": [],
      "execution_count": null,
      "outputs": []
    }
  ]
}